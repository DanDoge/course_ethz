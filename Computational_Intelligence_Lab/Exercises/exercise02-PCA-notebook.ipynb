{
 "cells": [
  {
   "cell_type": "markdown",
   "metadata": {},
   "source": [
    "# PCA Notebook\n",
    "In this exercise we will apply the Principal Component Analysis (PCA) method to the Fashion MNIST dataset, a publicly available dataset of images. You are required to fill the \"TODO\" cells with Python code. The code scheleton, as well as the data loading part, are provided. \n",
    "\n",
    "Note: It is important that you first solve Problem 1 of the exercise sheet, so you have a clear picture of the theory behind PCA and of the steps to follow "
   ]
  },
  {
   "cell_type": "markdown",
   "metadata": {},
   "source": [
    "## Imports"
   ]
  },
  {
   "cell_type": "code",
   "execution_count": 58,
   "metadata": {},
   "outputs": [],
   "source": [
    "%matplotlib inline\n",
    "\n",
    "import matplotlib\n",
    "import numpy as np\n",
    "import matplotlib.pyplot as plt\n",
    "# pip3 install Pillow\n",
    "import os,sys\n",
    "from PIL import Image\n",
    "from keras.datasets import fashion_mnist"
   ]
  },
  {
   "cell_type": "markdown",
   "metadata": {},
   "source": [
    "## Data Loading"
   ]
  },
  {
   "cell_type": "code",
   "execution_count": 59,
   "metadata": {
    "scrolled": true
   },
   "outputs": [
    {
     "data": {
      "image/png": "[encoded data removed]",
      "text/plain": [
       "<Figure size 432x288 with 1 Axes>"
      ]
     },
     "metadata": {
      "needs_background": "light"
     },
     "output_type": "display_data"
    }
   ],
   "source": [
    "# Load Fashion MNIST dataset\n",
    "(trainX, trainy), (testX, testy) = fashion_mnist.load_data()\n",
    "\n",
    "# Display first image\n",
    "plt.imshow(trainX[0,:,:])\n",
    "width, height = trainX[0,:,:].shape"
   ]
  },
  {
   "cell_type": "code",
   "execution_count": 60,
   "metadata": {},
   "outputs": [
    {
     "name": "stdout",
     "output_type": "stream",
     "text": [
      "Num samples: 60000\n",
      "Num samples: 6000\n"
     ]
    }
   ],
   "source": [
    "# Take only a few samples of the shoe class\n",
    "print(f'Num samples: {trainX.shape[0]}')\n",
    "trainX = trainX[trainy == 9, :, :] \n",
    "print(f'Num samples: {trainX.shape[0]}')"
   ]
  },
  {
   "cell_type": "code",
   "execution_count": 61,
   "metadata": {},
   "outputs": [
    {
     "name": "stdout",
     "output_type": "stream",
     "text": [
      "(100, 784)\n"
     ]
    }
   ],
   "source": [
    "# Only consider trainX, and compute input matrix X : n x d\n",
    "X = trainX.reshape(trainX.shape[0], -1)\n",
    "\n",
    "# Take only a few samples of the shoe class\n",
    "X = X[:100,:]\n",
    "\n",
    "print(X.shape)"
   ]
  },
  {
   "cell_type": "markdown",
   "metadata": {},
   "source": [
    "## Prepare the data for PCA analysis\n",
    "In the first step, we simply standardize the data by removing the mean image and computing the covariance matrix of the data:\n",
    "$$\n",
    "\\bar{X} = X ... \n",
    "$$ \n",
    "and\n",
    "$$\n",
    "\\Sigma = ...\n",
    "$$"
   ]
  },
  {
   "cell_type": "code",
   "execution_count": 62,
   "metadata": {},
   "outputs": [],
   "source": [
    "# TODO: Subtract the mean image from input matrix X\n",
    "X = X - X.mean(0)"
   ]
  },
  {
   "cell_type": "code",
   "execution_count": 63,
   "metadata": {
    "collapsed": true
   },
   "outputs": [],
   "source": [
    "# TODO: compute covariance matrix: 1/n * X * X^T, if X is a d x n matrix\n",
    "covariance = .01 * X.T @ X"
   ]
  },
  {
   "cell_type": "markdown",
   "metadata": {},
   "source": [
    "## PCA analysis\n",
    "PCA proceeds in the following steps. First, we perform the  eigenvalue decomposition of the covariance matrix:\n",
    "$$\n",
    "\\Sigma = ... \n",
    "$$ \n",
    "Then we select only the first $k$ singular vectors. Then we apply perform a change of basis of $\\bar{X}$ as follows:\n",
    "$$\n",
    "\\bar{Z} = ... \n",
    "$$\n",
    "Finally, the dataset can be reconstructed by\n",
    "$$\n",
    "\\tilde{X} = ...\n",
    "$$"
   ]
  },
  {
   "cell_type": "code",
   "execution_count": 64,
   "metadata": {},
   "outputs": [],
   "source": [
    "# Set k\n",
    "k = 20"
   ]
  },
  {
   "cell_type": "code",
   "execution_count": 65,
   "metadata": {},
   "outputs": [],
   "source": [
    "# TODO: Compute SVD of the covariance matrix\n",
    "U, L, VT = np.linalg.svd(covariance)"
   ]
  },
  {
   "cell_type": "code",
   "execution_count": 66,
   "metadata": {},
   "outputs": [
    {
     "data": {
      "text/plain": [
       "(784, 784)"
      ]
     },
     "execution_count": 66,
     "metadata": {},
     "output_type": "execute_result"
    }
   ],
   "source": [
    "U.shape"
   ]
  },
  {
   "cell_type": "code",
   "execution_count": 67,
   "metadata": {},
   "outputs": [],
   "source": [
    "# TODO: (optional) Extract first 5 eigenshoes which are represented by first 5 eigenvectors (columns of matrix U)\n",
    "u5 = U[:, :k]"
   ]
  },
  {
   "cell_type": "code",
   "execution_count": 68,
   "metadata": {},
   "outputs": [
    {
     "data": {
      "text/plain": [
       "<matplotlib.image.AxesImage at 0x1f34be3dfd0>"
      ]
     },
     "execution_count": 68,
     "metadata": {},
     "output_type": "execute_result"
    },
    {
     "data": {
      "image/png": "[encoded data removed]",
      "text/plain": [
       "<Figure size 432x288 with 1 Axes>"
      ]
     },
     "metadata": {
      "needs_background": "light"
     },
     "output_type": "display_data"
    }
   ],
   "source": [
    "# TODO: (optional) visualize the eigenshoes extracted at the previous point\n",
    "plt.imshow(u5[:, 4].reshape((28, 28)))"
   ]
  },
  {
   "cell_type": "code",
   "execution_count": 69,
   "metadata": {},
   "outputs": [],
   "source": [
    "# TODO: Build projection matrix U_k\n",
    "U_k = U[:, :k]"
   ]
  },
  {
   "cell_type": "code",
   "execution_count": 70,
   "metadata": {},
   "outputs": [],
   "source": [
    "# TODO: Apply change of basis\n",
    "Z = (U_k.T @ X.T).T"
   ]
  },
  {
   "cell_type": "code",
   "execution_count": 71,
   "metadata": {},
   "outputs": [],
   "source": [
    "# TODO: Perform image decompression (don't forget to add back the original mean of the data)\n",
    "X_reconstr = (U_k @ Z.T).T + trainX.reshape(trainX.shape[0], -1)[:100,:].mean(0)"
   ]
  },
  {
   "cell_type": "code",
   "execution_count": 72,
   "metadata": {},
   "outputs": [
    {
     "data": {
      "text/plain": [
       "<matplotlib.image.AxesImage at 0x1f34be9d640>"
      ]
     },
     "execution_count": 72,
     "metadata": {},
     "output_type": "execute_result"
    },
    {
     "data": {
      "image/png": "[encoded data removed]",
      "text/plain": [
       "<Figure size 432x288 with 1 Axes>"
      ]
     },
     "metadata": {
      "needs_background": "light"
     },
     "output_type": "display_data"
    }
   ],
   "source": [
    "# TODO: Plot one original image to see how good our decompression is\n",
    "plt.imshow(X_reconstr[0].reshape((28, 28)))"
   ]
  },
  {
   "cell_type": "code",
   "execution_count": null,
   "metadata": {},
   "outputs": [],
   "source": []
  },
  {
   "cell_type": "code",
   "execution_count": null,
   "metadata": {},
   "outputs": [],
   "source": []
  }
 ],
 "metadata": {
  "kernelspec": {
   "display_name": "Python 3",
   "language": "python",
   "name": "python3"
  },
  "language_info": {
   "codemirror_mode": {
    "name": "ipython",
    "version": 3
   },
   "file_extension": ".py",
   "mimetype": "text/x-python",
   "name": "python",
   "nbconvert_exporter": "python",
   "pygments_lexer": "ipython3",
   "version": "3.8.8"
  }
 },
 "nbformat": 4,
 "nbformat_minor": 1
}
